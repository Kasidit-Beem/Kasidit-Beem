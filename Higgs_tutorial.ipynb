{
  "nbformat": 4,
  "nbformat_minor": 0,
  "metadata": {
    "colab": {
      "name": "Higgs_tutorial.ipynb",
      "provenance": [],
      "collapsed_sections": [],
      "include_colab_link": true
    },
    "kernelspec": {
      "name": "python3",
      "display_name": "Python 3"
    },
    "language_info": {
      "name": "python"
    }
  },
  "cells": [
    {
      "cell_type": "markdown",
      "metadata": {
        "id": "view-in-github",
        "colab_type": "text"
      },
      "source": [
        "<a href=\"https://colab.research.google.com/github/Kasidit-Beem/Kasidit-Beem/blob/main/Higgs_tutorial.ipynb\" target=\"_parent\"><img src=\"https://colab.research.google.com/assets/colab-badge.svg\" alt=\"Open In Colab\"/></a>"
      ]
    },
    {
      "cell_type": "markdown",
      "metadata": {
        "id": "Iw-rsjOvy66l"
      },
      "source": [
        "Hi.\n",
        "\n",
        "This is a neural network tutorial designed to make sure you know how to create and evaluate your neural network. In this tutorial, we will be using a HIGGS dataset involving theoretical heavy Higgs bosons via Monte-Carlo simulated collision events. Everything you are seeing in this tutorial does not involve any real data taking at CERN or anywhere else, so rest assured. We are not looking for new particles at the LHC. Not yet, at least.\n",
        "\n",
        "This tutorial will be based on the HIGGS dataset available here: https://archive.ics.uci.edu/ml/datasets/HIGGS#, which is used in the following work:\n",
        "P. Baldi, P. Sadowski, and D. Whiteson, Nat. Commun. 5 (2014) 4308\n",
        "\n",
        "If you get stuck, you know how to reach me. Have fun!"
      ]
    },
    {
      "cell_type": "markdown",
      "metadata": {
        "id": "LUx-sglMJASU"
      },
      "source": [
        "Let's import some libraries first. I am importing Keras layers directly, but if you come from this tutorial on TensorFlow website https://www.tensorflow.org/tutorials/keras/classification, I have already imported the necessary libraries for you too."
      ]
    },
    {
      "cell_type": "code",
      "metadata": {
        "id": "yO4ipziAy-GH"
      },
      "source": [
        "import tensorflow as tf\n",
        "import numpy as np\n",
        "import keras\n",
        "from keras.layers import Input, Dense, Dropout\n",
        "from keras.models import Model\n",
        "import pandas as pd\n",
        "import matplotlib.pyplot as plt"
      ],
      "execution_count": null,
      "outputs": []
    },
    {
      "cell_type": "markdown",
      "metadata": {
        "id": "ymsHM6DAJCWg"
      },
      "source": [
        "Now download and unzip the HIGGS dataset. This dataset is generated with Monte-Carlo simulations, and it contains signal processes which generates Higgs, and background processes which does not."
      ]
    },
    {
      "cell_type": "code",
      "metadata": {
        "colab": {
          "base_uri": "https://localhost:8080/"
        },
        "id": "MIUGyd67y_OJ",
        "outputId": "5e676700-bf51-4562-cc93-ee004a420940"
      },
      "source": [
        "!wget https://archive.ics.uci.edu/ml/machine-learning-databases/00280/HIGGS.csv.gz\n",
        "!gunzip HIGGS.csv.gz"
      ],
      "execution_count": null,
      "outputs": [
        {
          "output_type": "stream",
          "name": "stdout",
          "text": [
            "--2021-09-14 13:00:31--  https://archive.ics.uci.edu/ml/machine-learning-databases/00280/HIGGS.csv.gz\n",
            "Resolving archive.ics.uci.edu (archive.ics.uci.edu)... 128.195.10.252\n",
            "Connecting to archive.ics.uci.edu (archive.ics.uci.edu)|128.195.10.252|:443... connected.\n",
            "HTTP request sent, awaiting response... 200 OK\n",
            "Length: 2816407858 (2.6G) [application/x-httpd-php]\n",
            "Saving to: ‘HIGGS.csv.gz’\n",
            "\n",
            "HIGGS.csv.gz        100%[===================>]   2.62G  34.8MB/s    in 71s     \n",
            "\n",
            "2021-09-14 13:01:42 (38.0 MB/s) - ‘HIGGS.csv.gz’ saved [2816407858/2816407858]\n",
            "\n"
          ]
        }
      ]
    },
    {
      "cell_type": "markdown",
      "metadata": {
        "id": "KK-51ymoJcmw"
      },
      "source": [
        "This is a large dataset of 11 million events, so it will take time.\n",
        "\n",
        "An exclamation mark `!` in front of the commands are shell commands that you can execute directly in Jupyter notebook. This example below shows what kind of files we have right now in the working directory. If you want to understand this further you need to know your way around bash shell, `wget`, and `gunzip`."
      ]
    },
    {
      "cell_type": "code",
      "metadata": {
        "colab": {
          "base_uri": "https://localhost:8080/"
        },
        "id": "MkLifFyqzDyT",
        "outputId": "baf6cdc6-d2e5-43cb-8010-dac9026baa04"
      },
      "source": [
        "!ls -l"
      ],
      "execution_count": null,
      "outputs": [
        {
          "output_type": "stream",
          "name": "stdout",
          "text": [
            "total 7847176\n",
            "-rw-r--r-- 1 root root 8035497980 Feb 14  2014 HIGGS.csv\n",
            "drwxr-xr-x 1 root root       4096 Sep  1 19:26 sample_data\n"
          ]
        }
      ]
    },
    {
      "cell_type": "markdown",
      "metadata": {
        "id": "Gk73CRsXJu8j"
      },
      "source": [
        "Peeking into the `head` of the extracted CSV file..."
      ]
    },
    {
      "cell_type": "code",
      "metadata": {
        "colab": {
          "base_uri": "https://localhost:8080/"
        },
        "id": "cDxB3AQ_08wx",
        "outputId": "c808fd17-d5b3-414e-948a-e2f9df83e5b3"
      },
      "source": [
        "!head HIGGS.csv"
      ],
      "execution_count": null,
      "outputs": [
        {
          "output_type": "stream",
          "name": "stdout",
          "text": [
            "1.000000000000000000e+00,8.692932128906250000e-01,-6.350818276405334473e-01,2.256902605295181274e-01,3.274700641632080078e-01,-6.899932026863098145e-01,7.542022466659545898e-01,-2.485731393098831177e-01,-1.092063903808593750e+00,0.000000000000000000e+00,1.374992132186889648e+00,-6.536741852760314941e-01,9.303491115570068359e-01,1.107436060905456543e+00,1.138904333114624023e+00,-1.578198313713073730e+00,-1.046985387802124023e+00,0.000000000000000000e+00,6.579295396804809570e-01,-1.045456994324922562e-02,-4.576716944575309753e-02,3.101961374282836914e+00,1.353760004043579102e+00,9.795631170272827148e-01,9.780761599540710449e-01,9.200048446655273438e-01,7.216574549674987793e-01,9.887509346008300781e-01,8.766783475875854492e-01\n",
            "1.000000000000000000e+00,9.075421094894409180e-01,3.291472792625427246e-01,3.594118654727935791e-01,1.497969865798950195e+00,-3.130095303058624268e-01,1.095530629158020020e+00,-5.575249195098876953e-01,-1.588229775428771973e+00,2.173076152801513672e+00,8.125811815261840820e-01,-2.136419266462326050e-01,1.271014571189880371e+00,2.214872121810913086e+00,4.999939501285552979e-01,-1.261431813240051270e+00,7.321561574935913086e-01,0.000000000000000000e+00,3.987008929252624512e-01,-1.138930082321166992e+00,-8.191101951524615288e-04,0.000000000000000000e+00,3.022198975086212158e-01,8.330481648445129395e-01,9.856996536254882812e-01,9.780983924865722656e-01,7.797321677207946777e-01,9.923557639122009277e-01,7.983425855636596680e-01\n",
            "1.000000000000000000e+00,7.988347411155700684e-01,1.470638751983642578e+00,-1.635974764823913574e+00,4.537731707096099854e-01,4.256291687488555908e-01,1.104874610900878906e+00,1.282322287559509277e+00,1.381664276123046875e+00,0.000000000000000000e+00,8.517372012138366699e-01,1.540658950805664062e+00,-8.196895122528076172e-01,2.214872121810913086e+00,9.934899210929870605e-01,3.560801148414611816e-01,-2.087775468826293945e-01,2.548224449157714844e+00,1.256954550743103027e+00,1.128847599029541016e+00,9.004608392715454102e-01,0.000000000000000000e+00,9.097532629966735840e-01,1.108330488204956055e+00,9.856922030448913574e-01,9.513312578201293945e-01,8.032515048980712891e-01,8.659244179725646973e-01,7.801175713539123535e-01\n",
            "0.000000000000000000e+00,1.344384789466857910e+00,-8.766260147094726562e-01,9.359127283096313477e-01,1.992050051689147949e+00,8.824543952941894531e-01,1.786065936088562012e+00,-1.646777749061584473e+00,-9.423825144767761230e-01,0.000000000000000000e+00,2.423264741897583008e+00,-6.760157942771911621e-01,7.361586689949035645e-01,2.214872121810913086e+00,1.298719763755798340e+00,-1.430738091468811035e+00,-3.646581768989562988e-01,0.000000000000000000e+00,7.453126907348632812e-01,-6.783788204193115234e-01,-1.360356330871582031e+00,0.000000000000000000e+00,9.466524720191955566e-01,1.028703689575195312e+00,9.986560940742492676e-01,7.282806038856506348e-01,8.692002296447753906e-01,1.026736497879028320e+00,9.579039812088012695e-01\n",
            "1.000000000000000000e+00,1.105008959770202637e+00,3.213555514812469482e-01,1.522401213645935059e+00,8.828076124191284180e-01,-1.205349326133728027e+00,6.814661026000976562e-01,-1.070463895797729492e+00,-9.218706488609313965e-01,0.000000000000000000e+00,8.008721470832824707e-01,1.020974040031433105e+00,9.714065194129943848e-01,2.214872121810913086e+00,5.967612862586975098e-01,-3.502728641033172607e-01,6.311942934989929199e-01,0.000000000000000000e+00,4.799988865852355957e-01,-3.735655248165130615e-01,1.130406111478805542e-01,0.000000000000000000e+00,7.558564543724060059e-01,1.361057043075561523e+00,9.866096973419189453e-01,8.380846381187438965e-01,1.133295178413391113e+00,8.722448945045471191e-01,8.084865212440490723e-01\n",
            "0.000000000000000000e+00,1.595839262008666992e+00,-6.078106760978698730e-01,7.074915803968906403e-03,1.818449616432189941e+00,-1.119059920310974121e-01,8.475499153137207031e-01,-5.664370059967041016e-01,1.581239342689514160e+00,2.173076152801513672e+00,7.554209828376770020e-01,6.431096196174621582e-01,1.426366806030273438e+00,0.000000000000000000e+00,9.216607809066772461e-01,-1.190432429313659668e+00,-1.615589022636413574e+00,0.000000000000000000e+00,6.511141061782836914e-01,-6.542269587516784668e-01,-1.274344921112060547e+00,3.101961374282836914e+00,8.237605690956115723e-01,9.381914138793945312e-01,9.717581868171691895e-01,7.891763448715209961e-01,4.305532872676849365e-01,9.613569378852844238e-01,9.578179121017456055e-01\n",
            "1.000000000000000000e+00,4.093913435935974121e-01,-1.884683609008789062e+00,-1.027292013168334961e+00,1.672451734542846680e+00,-1.604598283767700195e+00,1.338014960289001465e+00,5.542744323611259460e-02,1.346588134765625000e-02,2.173076152801513672e+00,5.097832679748535156e-01,-1.038338065147399902e+00,7.078623175621032715e-01,0.000000000000000000e+00,7.469175457954406738e-01,-3.584651052951812744e-01,-1.646654248237609863e+00,0.000000000000000000e+00,3.670579791069030762e-01,6.949646025896072388e-02,1.377130270004272461e+00,3.101961374282836914e+00,8.694183826446533203e-01,1.222082972526550293e+00,1.000627398490905762e+00,5.450449585914611816e-01,6.986525058746337891e-01,9.773144721984863281e-01,8.287860751152038574e-01\n",
            "1.000000000000000000e+00,9.338953495025634766e-01,6.291297078132629395e-01,5.275348424911499023e-01,2.380327433347702026e-01,-9.665691256523132324e-01,5.478111505508422852e-01,-5.943922698497772217e-02,-1.706866145133972168e+00,2.173076152801513672e+00,9.410027265548706055e-01,-2.653732776641845703e+00,-1.572199910879135132e-01,0.000000000000000000e+00,1.030370354652404785e+00,-1.755051016807556152e-01,5.230209231376647949e-01,2.548224449157714844e+00,1.373546600341796875e+00,1.291248083114624023e+00,-1.467454433441162109e+00,0.000000000000000000e+00,9.018372893333435059e-01,1.083671212196350098e+00,9.796960949897766113e-01,7.833003997802734375e-01,8.491951823234558105e-01,8.943563103675842285e-01,7.748793959617614746e-01\n",
            "1.000000000000000000e+00,1.405143737792968750e+00,5.366026163101196289e-01,6.895543336868286133e-01,1.179567337036132812e+00,-1.100611537694931030e-01,3.202404975891113281e+00,-1.526960015296936035e+00,-1.576033473014831543e+00,0.000000000000000000e+00,2.931536912918090820e+00,5.673424601554870605e-01,-1.300333440303802490e-01,2.214872121810913086e+00,1.787122726440429688e+00,8.994985818862915039e-01,5.851513147354125977e-01,2.548224449157714844e+00,4.018652141094207764e-01,-1.512016952037811279e-01,1.163489103317260742e+00,0.000000000000000000e+00,1.667070508003234863e+00,4.039272785186767578e+00,1.175828456878662109e+00,1.045351743698120117e+00,1.542971968650817871e+00,3.534826755523681641e+00,2.740753889083862305e+00\n",
            "1.000000000000000000e+00,1.176565527915954590e+00,1.041605025529861450e-01,1.397002458572387695e+00,4.797213077545166016e-01,2.655133903026580811e-01,1.135563015937805176e+00,1.534830927848815918e+00,-2.532912194728851318e-01,0.000000000000000000e+00,1.027246594429016113e+00,5.343157649040222168e-01,1.180022358894348145e+00,0.000000000000000000e+00,2.405661106109619141e+00,8.755676448345184326e-02,-9.765340685844421387e-01,2.548224449157714844e+00,1.250382542610168457e+00,2.685412168502807617e-01,5.303344726562500000e-01,0.000000000000000000e+00,8.331748843193054199e-01,7.739681005477905273e-01,9.857499599456787109e-01,1.103696346282958984e+00,8.491398692131042480e-01,9.371039867401123047e-01,8.123638033866882324e-01\n"
          ]
        }
      ]
    },
    {
      "cell_type": "markdown",
      "metadata": {
        "id": "sjLcgyCLJz96"
      },
      "source": [
        "Now we import data with pandas using the following command. I have written a quick code which will import the above CSV file into a nice pandas DataFrame format, so you don't have to do any kind of wetwork. \n",
        "\n",
        "Again, we are using a dataset of 11 million events, so it will take some time."
      ]
    },
    {
      "cell_type": "code",
      "metadata": {
        "id": "-yebs-UGKQK4"
      },
      "source": [
        "column_headers = [\"signal\", 'lepton_pT',\n",
        " 'lepton_eta',\n",
        " 'lepton_phi',\n",
        " 'MET',\n",
        " 'MET_phi',\n",
        " 'jet1_pt','jet1_eta','jet1_phi','jet1_btag',\n",
        " 'jet2_pt','jet2_eta','jet2_phi','jet2_btag',\n",
        " 'jet3_pt','jet3_eta','jet3_phi','jet3_btag',\n",
        " 'jet4_pt','jet4_eta','jet4_phi','jet4_btag',\n",
        " 'm_jj',\n",
        " 'm_jjj',\n",
        " 'm_lv',\n",
        " 'm_jlv',\n",
        " 'm_bb',\n",
        " 'm_wbb',\n",
        " 'm_wwbb']\n",
        "higgs_data = pd.read_csv(\"HIGGS.csv\", names=column_headers)"
      ],
      "execution_count": null,
      "outputs": []
    },
    {
      "cell_type": "markdown",
      "metadata": {
        "id": "tWENtGNuJ4mj"
      },
      "source": [
        "Since pandas is a library that handles tabular data, you can have it output the table nicely like this."
      ]
    },
    {
      "cell_type": "code",
      "metadata": {
        "colab": {
          "base_uri": "https://localhost:8080/",
          "height": 444
        },
        "id": "RjBhT3Hl7JKw",
        "outputId": "83bff98e-40e9-485b-be7d-26ecabf6f07f"
      },
      "source": [
        "higgs_data"
      ],
      "execution_count": null,
      "outputs": [
        {
          "output_type": "execute_result",
          "data": {
            "text/html": [
              "<div>\n",
              "<style scoped>\n",
              "    .dataframe tbody tr th:only-of-type {\n",
              "        vertical-align: middle;\n",
              "    }\n",
              "\n",
              "    .dataframe tbody tr th {\n",
              "        vertical-align: top;\n",
              "    }\n",
              "\n",
              "    .dataframe thead th {\n",
              "        text-align: right;\n",
              "    }\n",
              "</style>\n",
              "<table border=\"1\" class=\"dataframe\">\n",
              "  <thead>\n",
              "    <tr style=\"text-align: right;\">\n",
              "      <th></th>\n",
              "      <th>signal</th>\n",
              "      <th>lepton_pT</th>\n",
              "      <th>lepton_eta</th>\n",
              "      <th>lepton_phi</th>\n",
              "      <th>MET</th>\n",
              "      <th>MET_phi</th>\n",
              "      <th>jet1_pt</th>\n",
              "      <th>jet1_eta</th>\n",
              "      <th>jet1_phi</th>\n",
              "      <th>jet1_btag</th>\n",
              "      <th>jet2_pt</th>\n",
              "      <th>jet2_eta</th>\n",
              "      <th>jet2_phi</th>\n",
              "      <th>jet2_btag</th>\n",
              "      <th>jet3_pt</th>\n",
              "      <th>jet3_eta</th>\n",
              "      <th>jet3_phi</th>\n",
              "      <th>jet3_btag</th>\n",
              "      <th>jet4_pt</th>\n",
              "      <th>jet4_eta</th>\n",
              "      <th>jet4_phi</th>\n",
              "      <th>jet4_btag</th>\n",
              "      <th>m_jj</th>\n",
              "      <th>m_jjj</th>\n",
              "      <th>m_lv</th>\n",
              "      <th>m_jlv</th>\n",
              "      <th>m_bb</th>\n",
              "      <th>m_wbb</th>\n",
              "      <th>m_wwbb</th>\n",
              "    </tr>\n",
              "  </thead>\n",
              "  <tbody>\n",
              "    <tr>\n",
              "      <th>0</th>\n",
              "      <td>1.0</td>\n",
              "      <td>0.869293</td>\n",
              "      <td>-0.635082</td>\n",
              "      <td>0.225690</td>\n",
              "      <td>0.327470</td>\n",
              "      <td>-0.689993</td>\n",
              "      <td>0.754202</td>\n",
              "      <td>-0.248573</td>\n",
              "      <td>-1.092064</td>\n",
              "      <td>0.000000</td>\n",
              "      <td>1.374992</td>\n",
              "      <td>-0.653674</td>\n",
              "      <td>0.930349</td>\n",
              "      <td>1.107436</td>\n",
              "      <td>1.138904</td>\n",
              "      <td>-1.578198</td>\n",
              "      <td>-1.046985</td>\n",
              "      <td>0.000000</td>\n",
              "      <td>0.657930</td>\n",
              "      <td>-0.010455</td>\n",
              "      <td>-0.045767</td>\n",
              "      <td>3.101961</td>\n",
              "      <td>1.353760</td>\n",
              "      <td>0.979563</td>\n",
              "      <td>0.978076</td>\n",
              "      <td>0.920005</td>\n",
              "      <td>0.721657</td>\n",
              "      <td>0.988751</td>\n",
              "      <td>0.876678</td>\n",
              "    </tr>\n",
              "    <tr>\n",
              "      <th>1</th>\n",
              "      <td>1.0</td>\n",
              "      <td>0.907542</td>\n",
              "      <td>0.329147</td>\n",
              "      <td>0.359412</td>\n",
              "      <td>1.497970</td>\n",
              "      <td>-0.313010</td>\n",
              "      <td>1.095531</td>\n",
              "      <td>-0.557525</td>\n",
              "      <td>-1.588230</td>\n",
              "      <td>2.173076</td>\n",
              "      <td>0.812581</td>\n",
              "      <td>-0.213642</td>\n",
              "      <td>1.271015</td>\n",
              "      <td>2.214872</td>\n",
              "      <td>0.499994</td>\n",
              "      <td>-1.261432</td>\n",
              "      <td>0.732156</td>\n",
              "      <td>0.000000</td>\n",
              "      <td>0.398701</td>\n",
              "      <td>-1.138930</td>\n",
              "      <td>-0.000819</td>\n",
              "      <td>0.000000</td>\n",
              "      <td>0.302220</td>\n",
              "      <td>0.833048</td>\n",
              "      <td>0.985700</td>\n",
              "      <td>0.978098</td>\n",
              "      <td>0.779732</td>\n",
              "      <td>0.992356</td>\n",
              "      <td>0.798343</td>\n",
              "    </tr>\n",
              "    <tr>\n",
              "      <th>2</th>\n",
              "      <td>1.0</td>\n",
              "      <td>0.798835</td>\n",
              "      <td>1.470639</td>\n",
              "      <td>-1.635975</td>\n",
              "      <td>0.453773</td>\n",
              "      <td>0.425629</td>\n",
              "      <td>1.104875</td>\n",
              "      <td>1.282322</td>\n",
              "      <td>1.381664</td>\n",
              "      <td>0.000000</td>\n",
              "      <td>0.851737</td>\n",
              "      <td>1.540659</td>\n",
              "      <td>-0.819690</td>\n",
              "      <td>2.214872</td>\n",
              "      <td>0.993490</td>\n",
              "      <td>0.356080</td>\n",
              "      <td>-0.208778</td>\n",
              "      <td>2.548224</td>\n",
              "      <td>1.256955</td>\n",
              "      <td>1.128848</td>\n",
              "      <td>0.900461</td>\n",
              "      <td>0.000000</td>\n",
              "      <td>0.909753</td>\n",
              "      <td>1.108330</td>\n",
              "      <td>0.985692</td>\n",
              "      <td>0.951331</td>\n",
              "      <td>0.803252</td>\n",
              "      <td>0.865924</td>\n",
              "      <td>0.780118</td>\n",
              "    </tr>\n",
              "    <tr>\n",
              "      <th>3</th>\n",
              "      <td>0.0</td>\n",
              "      <td>1.344385</td>\n",
              "      <td>-0.876626</td>\n",
              "      <td>0.935913</td>\n",
              "      <td>1.992050</td>\n",
              "      <td>0.882454</td>\n",
              "      <td>1.786066</td>\n",
              "      <td>-1.646778</td>\n",
              "      <td>-0.942383</td>\n",
              "      <td>0.000000</td>\n",
              "      <td>2.423265</td>\n",
              "      <td>-0.676016</td>\n",
              "      <td>0.736159</td>\n",
              "      <td>2.214872</td>\n",
              "      <td>1.298720</td>\n",
              "      <td>-1.430738</td>\n",
              "      <td>-0.364658</td>\n",
              "      <td>0.000000</td>\n",
              "      <td>0.745313</td>\n",
              "      <td>-0.678379</td>\n",
              "      <td>-1.360356</td>\n",
              "      <td>0.000000</td>\n",
              "      <td>0.946652</td>\n",
              "      <td>1.028704</td>\n",
              "      <td>0.998656</td>\n",
              "      <td>0.728281</td>\n",
              "      <td>0.869200</td>\n",
              "      <td>1.026736</td>\n",
              "      <td>0.957904</td>\n",
              "    </tr>\n",
              "    <tr>\n",
              "      <th>4</th>\n",
              "      <td>1.0</td>\n",
              "      <td>1.105009</td>\n",
              "      <td>0.321356</td>\n",
              "      <td>1.522401</td>\n",
              "      <td>0.882808</td>\n",
              "      <td>-1.205349</td>\n",
              "      <td>0.681466</td>\n",
              "      <td>-1.070464</td>\n",
              "      <td>-0.921871</td>\n",
              "      <td>0.000000</td>\n",
              "      <td>0.800872</td>\n",
              "      <td>1.020974</td>\n",
              "      <td>0.971407</td>\n",
              "      <td>2.214872</td>\n",
              "      <td>0.596761</td>\n",
              "      <td>-0.350273</td>\n",
              "      <td>0.631194</td>\n",
              "      <td>0.000000</td>\n",
              "      <td>0.479999</td>\n",
              "      <td>-0.373566</td>\n",
              "      <td>0.113041</td>\n",
              "      <td>0.000000</td>\n",
              "      <td>0.755856</td>\n",
              "      <td>1.361057</td>\n",
              "      <td>0.986610</td>\n",
              "      <td>0.838085</td>\n",
              "      <td>1.133295</td>\n",
              "      <td>0.872245</td>\n",
              "      <td>0.808487</td>\n",
              "    </tr>\n",
              "    <tr>\n",
              "      <th>...</th>\n",
              "      <td>...</td>\n",
              "      <td>...</td>\n",
              "      <td>...</td>\n",
              "      <td>...</td>\n",
              "      <td>...</td>\n",
              "      <td>...</td>\n",
              "      <td>...</td>\n",
              "      <td>...</td>\n",
              "      <td>...</td>\n",
              "      <td>...</td>\n",
              "      <td>...</td>\n",
              "      <td>...</td>\n",
              "      <td>...</td>\n",
              "      <td>...</td>\n",
              "      <td>...</td>\n",
              "      <td>...</td>\n",
              "      <td>...</td>\n",
              "      <td>...</td>\n",
              "      <td>...</td>\n",
              "      <td>...</td>\n",
              "      <td>...</td>\n",
              "      <td>...</td>\n",
              "      <td>...</td>\n",
              "      <td>...</td>\n",
              "      <td>...</td>\n",
              "      <td>...</td>\n",
              "      <td>...</td>\n",
              "      <td>...</td>\n",
              "      <td>...</td>\n",
              "    </tr>\n",
              "    <tr>\n",
              "      <th>10999995</th>\n",
              "      <td>1.0</td>\n",
              "      <td>1.159912</td>\n",
              "      <td>1.013847</td>\n",
              "      <td>0.108615</td>\n",
              "      <td>1.495524</td>\n",
              "      <td>-0.537545</td>\n",
              "      <td>2.342396</td>\n",
              "      <td>-0.839740</td>\n",
              "      <td>1.320683</td>\n",
              "      <td>0.000000</td>\n",
              "      <td>1.858587</td>\n",
              "      <td>1.131711</td>\n",
              "      <td>-0.561694</td>\n",
              "      <td>0.000000</td>\n",
              "      <td>0.961000</td>\n",
              "      <td>0.671026</td>\n",
              "      <td>-0.178822</td>\n",
              "      <td>0.000000</td>\n",
              "      <td>1.177604</td>\n",
              "      <td>-0.097068</td>\n",
              "      <td>1.190680</td>\n",
              "      <td>3.101961</td>\n",
              "      <td>0.822136</td>\n",
              "      <td>0.766772</td>\n",
              "      <td>1.002191</td>\n",
              "      <td>1.061233</td>\n",
              "      <td>0.837004</td>\n",
              "      <td>0.860472</td>\n",
              "      <td>0.772484</td>\n",
              "    </tr>\n",
              "    <tr>\n",
              "      <th>10999996</th>\n",
              "      <td>1.0</td>\n",
              "      <td>0.618388</td>\n",
              "      <td>-1.012982</td>\n",
              "      <td>1.110139</td>\n",
              "      <td>0.941023</td>\n",
              "      <td>-0.379199</td>\n",
              "      <td>1.004656</td>\n",
              "      <td>0.348535</td>\n",
              "      <td>-1.678593</td>\n",
              "      <td>2.173076</td>\n",
              "      <td>1.002570</td>\n",
              "      <td>-0.636189</td>\n",
              "      <td>-0.367500</td>\n",
              "      <td>0.000000</td>\n",
              "      <td>0.650326</td>\n",
              "      <td>0.511733</td>\n",
              "      <td>-0.182705</td>\n",
              "      <td>0.000000</td>\n",
              "      <td>1.427826</td>\n",
              "      <td>-0.216995</td>\n",
              "      <td>1.049177</td>\n",
              "      <td>3.101961</td>\n",
              "      <td>0.826829</td>\n",
              "      <td>0.989809</td>\n",
              "      <td>1.029104</td>\n",
              "      <td>1.199679</td>\n",
              "      <td>0.891481</td>\n",
              "      <td>0.938490</td>\n",
              "      <td>0.865269</td>\n",
              "    </tr>\n",
              "    <tr>\n",
              "      <th>10999997</th>\n",
              "      <td>1.0</td>\n",
              "      <td>0.700559</td>\n",
              "      <td>0.774251</td>\n",
              "      <td>1.520182</td>\n",
              "      <td>0.847112</td>\n",
              "      <td>0.211230</td>\n",
              "      <td>1.095531</td>\n",
              "      <td>0.052457</td>\n",
              "      <td>0.024553</td>\n",
              "      <td>2.173076</td>\n",
              "      <td>1.345027</td>\n",
              "      <td>0.993776</td>\n",
              "      <td>-1.298508</td>\n",
              "      <td>2.214872</td>\n",
              "      <td>1.252707</td>\n",
              "      <td>1.465673</td>\n",
              "      <td>1.262483</td>\n",
              "      <td>0.000000</td>\n",
              "      <td>0.419634</td>\n",
              "      <td>1.585235</td>\n",
              "      <td>1.713962</td>\n",
              "      <td>0.000000</td>\n",
              "      <td>0.337374</td>\n",
              "      <td>0.845208</td>\n",
              "      <td>0.987610</td>\n",
              "      <td>0.883422</td>\n",
              "      <td>1.888438</td>\n",
              "      <td>1.153766</td>\n",
              "      <td>0.931279</td>\n",
              "    </tr>\n",
              "    <tr>\n",
              "      <th>10999998</th>\n",
              "      <td>0.0</td>\n",
              "      <td>1.178030</td>\n",
              "      <td>0.117796</td>\n",
              "      <td>-1.276980</td>\n",
              "      <td>1.864457</td>\n",
              "      <td>-0.584370</td>\n",
              "      <td>0.998519</td>\n",
              "      <td>-1.264549</td>\n",
              "      <td>1.276333</td>\n",
              "      <td>0.000000</td>\n",
              "      <td>0.733136</td>\n",
              "      <td>0.356554</td>\n",
              "      <td>0.354436</td>\n",
              "      <td>2.214872</td>\n",
              "      <td>0.618363</td>\n",
              "      <td>-0.092672</td>\n",
              "      <td>-0.997614</td>\n",
              "      <td>0.000000</td>\n",
              "      <td>0.845596</td>\n",
              "      <td>1.399515</td>\n",
              "      <td>-1.313189</td>\n",
              "      <td>0.000000</td>\n",
              "      <td>0.838842</td>\n",
              "      <td>0.882890</td>\n",
              "      <td>1.201380</td>\n",
              "      <td>0.939216</td>\n",
              "      <td>0.339705</td>\n",
              "      <td>0.759070</td>\n",
              "      <td>0.719119</td>\n",
              "    </tr>\n",
              "    <tr>\n",
              "      <th>10999999</th>\n",
              "      <td>0.0</td>\n",
              "      <td>0.464477</td>\n",
              "      <td>-0.337047</td>\n",
              "      <td>0.229019</td>\n",
              "      <td>0.954596</td>\n",
              "      <td>-0.868466</td>\n",
              "      <td>0.430004</td>\n",
              "      <td>-0.271348</td>\n",
              "      <td>-1.252278</td>\n",
              "      <td>2.173076</td>\n",
              "      <td>0.449350</td>\n",
              "      <td>-1.141304</td>\n",
              "      <td>1.276563</td>\n",
              "      <td>2.214872</td>\n",
              "      <td>0.498589</td>\n",
              "      <td>-1.894055</td>\n",
              "      <td>0.888037</td>\n",
              "      <td>0.000000</td>\n",
              "      <td>0.675698</td>\n",
              "      <td>-1.652782</td>\n",
              "      <td>-0.586254</td>\n",
              "      <td>0.000000</td>\n",
              "      <td>0.752535</td>\n",
              "      <td>0.740727</td>\n",
              "      <td>0.986917</td>\n",
              "      <td>0.663952</td>\n",
              "      <td>0.576084</td>\n",
              "      <td>0.541427</td>\n",
              "      <td>0.517420</td>\n",
              "    </tr>\n",
              "  </tbody>\n",
              "</table>\n",
              "<p>11000000 rows × 29 columns</p>\n",
              "</div>"
            ],
            "text/plain": [
              "          signal  lepton_pT  lepton_eta  ...      m_bb     m_wbb    m_wwbb\n",
              "0            1.0   0.869293   -0.635082  ...  0.721657  0.988751  0.876678\n",
              "1            1.0   0.907542    0.329147  ...  0.779732  0.992356  0.798343\n",
              "2            1.0   0.798835    1.470639  ...  0.803252  0.865924  0.780118\n",
              "3            0.0   1.344385   -0.876626  ...  0.869200  1.026736  0.957904\n",
              "4            1.0   1.105009    0.321356  ...  1.133295  0.872245  0.808487\n",
              "...          ...        ...         ...  ...       ...       ...       ...\n",
              "10999995     1.0   1.159912    1.013847  ...  0.837004  0.860472  0.772484\n",
              "10999996     1.0   0.618388   -1.012982  ...  0.891481  0.938490  0.865269\n",
              "10999997     1.0   0.700559    0.774251  ...  1.888438  1.153766  0.931279\n",
              "10999998     0.0   1.178030    0.117796  ...  0.339705  0.759070  0.719119\n",
              "10999999     0.0   0.464477   -0.337047  ...  0.576084  0.541427  0.517420\n",
              "\n",
              "[11000000 rows x 29 columns]"
            ]
          },
          "metadata": {},
          "execution_count": 6
        }
      ]
    },
    {
      "cell_type": "markdown",
      "metadata": {
        "id": "XukmV50RblPz"
      },
      "source": [
        "The table above contains 11 million collision events generated from Monte-Carlo simulations. The first column tells us whether the event is a signal event (1) where a Higgs boson is generated, or a background event (0) where a Higgs boson is not generatedd. The next 21 columns are low-level variables: transverse momentum (pT), pseudorapidity (eta), polar angle in the transverse plane (phi), and b-tagging discriminators from several objects (leptons, particle jets, and neutrinos) in each event. The last 7 columns represent the invariant mass of each combination of objects, like two jets, three jets, one lepton plus one neutrino, and so on. Unfortunately, the data has been already normalised, so you didn't get to see what the distribution of jet pT actually looks like.\n",
        "\n",
        "The Higgs process that we are looking at is the process involving \"new theoretical Higgs bosons\", which subsequently decays into two W bosons and two b quarks. The background process, on the other hand, is a simple top-antitop quark pair production, which eventually decays into two W bosons and two b quarks, the same as in signal process. The idea is that we want to discriminate between those two processes by means of machine learning.\n",
        "\n",
        "Now here are some physics details. What you will be seeing right after each collision is the final state of particles, not the particles created right after proton-proton collision. Normally you will see some photons, leptons, particle jets, and sometimes there are some things missing. Those stuffs are the final state particles, and it can be caused by a chain of particle decays, initial or final state radiations, or it may be caused by another interaction occuring at the same time as the main collision (which we call pileup). Right after quarks are created, they cannot be free and must group up with other quarks and form hadrons, so you would not see quarks individually, but a stream of particle jets, or put simply, jets. As for neutrinos, usually detectors like CMS and ATLAS detectors cannot detect them, but you need to have net zero transverse momentum since you have a head-on collision. This is where missing transverse energy (MET) comes in.\n",
        "\n",
        "If you are interested about this dataset, have a look at this paper: \n",
        "P. Baldi, P. Sadowski, and D. Whiteson, Nat. Commun. 5 (2014) 4308"
      ]
    },
    {
      "cell_type": "markdown",
      "metadata": {
        "id": "VhI-6vGyjCEV"
      },
      "source": [
        "Now we are going to define the training and testing datasets. We want to do this quickly, so I will be using only 100k events each for training and testing datasets."
      ]
    },
    {
      "cell_type": "code",
      "metadata": {
        "id": "H2MANhCH-s-M"
      },
      "source": [
        "higgs_data_train = higgs_data[:100000]\n",
        "higgs_data_test = higgs_data[100000:200000]"
      ],
      "execution_count": 27,
      "outputs": []
    },
    {
      "cell_type": "code",
      "metadata": {
        "colab": {
          "base_uri": "https://localhost:8080/",
          "height": 444
        },
        "id": "va3ac9F1GoTA",
        "outputId": "dd15e86e-8df6-4fc8-cee2-063d8b24224b"
      },
      "source": [
        "higgs_data_train"
      ],
      "execution_count": null,
      "outputs": [
        {
          "output_type": "execute_result",
          "data": {
            "text/html": [
              "<div>\n",
              "<style scoped>\n",
              "    .dataframe tbody tr th:only-of-type {\n",
              "        vertical-align: middle;\n",
              "    }\n",
              "\n",
              "    .dataframe tbody tr th {\n",
              "        vertical-align: top;\n",
              "    }\n",
              "\n",
              "    .dataframe thead th {\n",
              "        text-align: right;\n",
              "    }\n",
              "</style>\n",
              "<table border=\"1\" class=\"dataframe\">\n",
              "  <thead>\n",
              "    <tr style=\"text-align: right;\">\n",
              "      <th></th>\n",
              "      <th>signal</th>\n",
              "      <th>lepton_pT</th>\n",
              "      <th>lepton_eta</th>\n",
              "      <th>lepton_phi</th>\n",
              "      <th>MET</th>\n",
              "      <th>MET_phi</th>\n",
              "      <th>jet1_pt</th>\n",
              "      <th>jet1_eta</th>\n",
              "      <th>jet1_phi</th>\n",
              "      <th>jet1_btag</th>\n",
              "      <th>jet2_pt</th>\n",
              "      <th>jet2_eta</th>\n",
              "      <th>jet2_phi</th>\n",
              "      <th>jet2_btag</th>\n",
              "      <th>jet3_pt</th>\n",
              "      <th>jet3_eta</th>\n",
              "      <th>jet3_phi</th>\n",
              "      <th>jet3_btag</th>\n",
              "      <th>jet4_pt</th>\n",
              "      <th>jet4_eta</th>\n",
              "      <th>jet4_phi</th>\n",
              "      <th>jet4_btag</th>\n",
              "      <th>m_jj</th>\n",
              "      <th>m_jjj</th>\n",
              "      <th>m_lv</th>\n",
              "      <th>m_jlv</th>\n",
              "      <th>m_bb</th>\n",
              "      <th>m_wbb</th>\n",
              "      <th>m_wwbb</th>\n",
              "    </tr>\n",
              "  </thead>\n",
              "  <tbody>\n",
              "    <tr>\n",
              "      <th>0</th>\n",
              "      <td>1.0</td>\n",
              "      <td>0.869293</td>\n",
              "      <td>-0.635082</td>\n",
              "      <td>0.225690</td>\n",
              "      <td>0.327470</td>\n",
              "      <td>-0.689993</td>\n",
              "      <td>0.754202</td>\n",
              "      <td>-0.248573</td>\n",
              "      <td>-1.092064</td>\n",
              "      <td>0.000000</td>\n",
              "      <td>1.374992</td>\n",
              "      <td>-0.653674</td>\n",
              "      <td>0.930349</td>\n",
              "      <td>1.107436</td>\n",
              "      <td>1.138904</td>\n",
              "      <td>-1.578198</td>\n",
              "      <td>-1.046985</td>\n",
              "      <td>0.000000</td>\n",
              "      <td>0.657930</td>\n",
              "      <td>-0.010455</td>\n",
              "      <td>-0.045767</td>\n",
              "      <td>3.101961</td>\n",
              "      <td>1.353760</td>\n",
              "      <td>0.979563</td>\n",
              "      <td>0.978076</td>\n",
              "      <td>0.920005</td>\n",
              "      <td>0.721657</td>\n",
              "      <td>0.988751</td>\n",
              "      <td>0.876678</td>\n",
              "    </tr>\n",
              "    <tr>\n",
              "      <th>1</th>\n",
              "      <td>1.0</td>\n",
              "      <td>0.907542</td>\n",
              "      <td>0.329147</td>\n",
              "      <td>0.359412</td>\n",
              "      <td>1.497970</td>\n",
              "      <td>-0.313010</td>\n",
              "      <td>1.095531</td>\n",
              "      <td>-0.557525</td>\n",
              "      <td>-1.588230</td>\n",
              "      <td>2.173076</td>\n",
              "      <td>0.812581</td>\n",
              "      <td>-0.213642</td>\n",
              "      <td>1.271015</td>\n",
              "      <td>2.214872</td>\n",
              "      <td>0.499994</td>\n",
              "      <td>-1.261432</td>\n",
              "      <td>0.732156</td>\n",
              "      <td>0.000000</td>\n",
              "      <td>0.398701</td>\n",
              "      <td>-1.138930</td>\n",
              "      <td>-0.000819</td>\n",
              "      <td>0.000000</td>\n",
              "      <td>0.302220</td>\n",
              "      <td>0.833048</td>\n",
              "      <td>0.985700</td>\n",
              "      <td>0.978098</td>\n",
              "      <td>0.779732</td>\n",
              "      <td>0.992356</td>\n",
              "      <td>0.798343</td>\n",
              "    </tr>\n",
              "    <tr>\n",
              "      <th>2</th>\n",
              "      <td>1.0</td>\n",
              "      <td>0.798835</td>\n",
              "      <td>1.470639</td>\n",
              "      <td>-1.635975</td>\n",
              "      <td>0.453773</td>\n",
              "      <td>0.425629</td>\n",
              "      <td>1.104875</td>\n",
              "      <td>1.282322</td>\n",
              "      <td>1.381664</td>\n",
              "      <td>0.000000</td>\n",
              "      <td>0.851737</td>\n",
              "      <td>1.540659</td>\n",
              "      <td>-0.819690</td>\n",
              "      <td>2.214872</td>\n",
              "      <td>0.993490</td>\n",
              "      <td>0.356080</td>\n",
              "      <td>-0.208778</td>\n",
              "      <td>2.548224</td>\n",
              "      <td>1.256955</td>\n",
              "      <td>1.128848</td>\n",
              "      <td>0.900461</td>\n",
              "      <td>0.000000</td>\n",
              "      <td>0.909753</td>\n",
              "      <td>1.108330</td>\n",
              "      <td>0.985692</td>\n",
              "      <td>0.951331</td>\n",
              "      <td>0.803252</td>\n",
              "      <td>0.865924</td>\n",
              "      <td>0.780118</td>\n",
              "    </tr>\n",
              "    <tr>\n",
              "      <th>3</th>\n",
              "      <td>0.0</td>\n",
              "      <td>1.344385</td>\n",
              "      <td>-0.876626</td>\n",
              "      <td>0.935913</td>\n",
              "      <td>1.992050</td>\n",
              "      <td>0.882454</td>\n",
              "      <td>1.786066</td>\n",
              "      <td>-1.646778</td>\n",
              "      <td>-0.942383</td>\n",
              "      <td>0.000000</td>\n",
              "      <td>2.423265</td>\n",
              "      <td>-0.676016</td>\n",
              "      <td>0.736159</td>\n",
              "      <td>2.214872</td>\n",
              "      <td>1.298720</td>\n",
              "      <td>-1.430738</td>\n",
              "      <td>-0.364658</td>\n",
              "      <td>0.000000</td>\n",
              "      <td>0.745313</td>\n",
              "      <td>-0.678379</td>\n",
              "      <td>-1.360356</td>\n",
              "      <td>0.000000</td>\n",
              "      <td>0.946652</td>\n",
              "      <td>1.028704</td>\n",
              "      <td>0.998656</td>\n",
              "      <td>0.728281</td>\n",
              "      <td>0.869200</td>\n",
              "      <td>1.026736</td>\n",
              "      <td>0.957904</td>\n",
              "    </tr>\n",
              "    <tr>\n",
              "      <th>4</th>\n",
              "      <td>1.0</td>\n",
              "      <td>1.105009</td>\n",
              "      <td>0.321356</td>\n",
              "      <td>1.522401</td>\n",
              "      <td>0.882808</td>\n",
              "      <td>-1.205349</td>\n",
              "      <td>0.681466</td>\n",
              "      <td>-1.070464</td>\n",
              "      <td>-0.921871</td>\n",
              "      <td>0.000000</td>\n",
              "      <td>0.800872</td>\n",
              "      <td>1.020974</td>\n",
              "      <td>0.971407</td>\n",
              "      <td>2.214872</td>\n",
              "      <td>0.596761</td>\n",
              "      <td>-0.350273</td>\n",
              "      <td>0.631194</td>\n",
              "      <td>0.000000</td>\n",
              "      <td>0.479999</td>\n",
              "      <td>-0.373566</td>\n",
              "      <td>0.113041</td>\n",
              "      <td>0.000000</td>\n",
              "      <td>0.755856</td>\n",
              "      <td>1.361057</td>\n",
              "      <td>0.986610</td>\n",
              "      <td>0.838085</td>\n",
              "      <td>1.133295</td>\n",
              "      <td>0.872245</td>\n",
              "      <td>0.808487</td>\n",
              "    </tr>\n",
              "    <tr>\n",
              "      <th>...</th>\n",
              "      <td>...</td>\n",
              "      <td>...</td>\n",
              "      <td>...</td>\n",
              "      <td>...</td>\n",
              "      <td>...</td>\n",
              "      <td>...</td>\n",
              "      <td>...</td>\n",
              "      <td>...</td>\n",
              "      <td>...</td>\n",
              "      <td>...</td>\n",
              "      <td>...</td>\n",
              "      <td>...</td>\n",
              "      <td>...</td>\n",
              "      <td>...</td>\n",
              "      <td>...</td>\n",
              "      <td>...</td>\n",
              "      <td>...</td>\n",
              "      <td>...</td>\n",
              "      <td>...</td>\n",
              "      <td>...</td>\n",
              "      <td>...</td>\n",
              "      <td>...</td>\n",
              "      <td>...</td>\n",
              "      <td>...</td>\n",
              "      <td>...</td>\n",
              "      <td>...</td>\n",
              "      <td>...</td>\n",
              "      <td>...</td>\n",
              "      <td>...</td>\n",
              "    </tr>\n",
              "    <tr>\n",
              "      <th>99995</th>\n",
              "      <td>0.0</td>\n",
              "      <td>1.541120</td>\n",
              "      <td>-0.948700</td>\n",
              "      <td>-0.762068</td>\n",
              "      <td>0.752259</td>\n",
              "      <td>-0.835360</td>\n",
              "      <td>0.554040</td>\n",
              "      <td>-0.258475</td>\n",
              "      <td>0.639910</td>\n",
              "      <td>1.086538</td>\n",
              "      <td>0.976885</td>\n",
              "      <td>-0.262211</td>\n",
              "      <td>-1.609767</td>\n",
              "      <td>2.214872</td>\n",
              "      <td>0.854398</td>\n",
              "      <td>0.484425</td>\n",
              "      <td>0.449796</td>\n",
              "      <td>0.000000</td>\n",
              "      <td>0.754319</td>\n",
              "      <td>0.111138</td>\n",
              "      <td>0.049226</td>\n",
              "      <td>0.000000</td>\n",
              "      <td>0.359801</td>\n",
              "      <td>0.921513</td>\n",
              "      <td>0.977563</td>\n",
              "      <td>1.157282</td>\n",
              "      <td>0.971256</td>\n",
              "      <td>0.962689</td>\n",
              "      <td>0.914845</td>\n",
              "    </tr>\n",
              "    <tr>\n",
              "      <th>99996</th>\n",
              "      <td>1.0</td>\n",
              "      <td>0.957321</td>\n",
              "      <td>-0.759750</td>\n",
              "      <td>1.210569</td>\n",
              "      <td>0.863929</td>\n",
              "      <td>-0.120751</td>\n",
              "      <td>0.505580</td>\n",
              "      <td>0.058398</td>\n",
              "      <td>-0.496662</td>\n",
              "      <td>1.086538</td>\n",
              "      <td>0.509909</td>\n",
              "      <td>-1.065537</td>\n",
              "      <td>-0.819135</td>\n",
              "      <td>0.000000</td>\n",
              "      <td>0.892683</td>\n",
              "      <td>0.488976</td>\n",
              "      <td>0.995101</td>\n",
              "      <td>2.548224</td>\n",
              "      <td>0.534765</td>\n",
              "      <td>1.127182</td>\n",
              "      <td>1.674563</td>\n",
              "      <td>0.000000</td>\n",
              "      <td>0.838526</td>\n",
              "      <td>0.731589</td>\n",
              "      <td>1.173853</td>\n",
              "      <td>0.848387</td>\n",
              "      <td>0.840251</td>\n",
              "      <td>0.702825</td>\n",
              "      <td>0.642653</td>\n",
              "    </tr>\n",
              "    <tr>\n",
              "      <th>99997</th>\n",
              "      <td>1.0</td>\n",
              "      <td>0.878993</td>\n",
              "      <td>-1.687942</td>\n",
              "      <td>-1.318039</td>\n",
              "      <td>0.407732</td>\n",
              "      <td>-1.481964</td>\n",
              "      <td>0.847367</td>\n",
              "      <td>-0.680313</td>\n",
              "      <td>1.462603</td>\n",
              "      <td>1.086538</td>\n",
              "      <td>0.594642</td>\n",
              "      <td>-1.585221</td>\n",
              "      <td>0.128620</td>\n",
              "      <td>0.000000</td>\n",
              "      <td>1.115722</td>\n",
              "      <td>1.191688</td>\n",
              "      <td>0.286149</td>\n",
              "      <td>0.000000</td>\n",
              "      <td>1.044703</td>\n",
              "      <td>-1.756052</td>\n",
              "      <td>-0.869814</td>\n",
              "      <td>0.000000</td>\n",
              "      <td>0.841216</td>\n",
              "      <td>1.112265</td>\n",
              "      <td>1.003257</td>\n",
              "      <td>0.768167</td>\n",
              "      <td>0.911731</td>\n",
              "      <td>0.911673</td>\n",
              "      <td>0.805071</td>\n",
              "    </tr>\n",
              "    <tr>\n",
              "      <th>99998</th>\n",
              "      <td>0.0</td>\n",
              "      <td>1.090185</td>\n",
              "      <td>0.409987</td>\n",
              "      <td>1.036898</td>\n",
              "      <td>0.427749</td>\n",
              "      <td>-1.035207</td>\n",
              "      <td>1.191169</td>\n",
              "      <td>-0.537720</td>\n",
              "      <td>1.576804</td>\n",
              "      <td>2.173076</td>\n",
              "      <td>1.156927</td>\n",
              "      <td>-1.141304</td>\n",
              "      <td>-0.085648</td>\n",
              "      <td>0.000000</td>\n",
              "      <td>0.892508</td>\n",
              "      <td>-1.306944</td>\n",
              "      <td>-0.826201</td>\n",
              "      <td>0.000000</td>\n",
              "      <td>1.113588</td>\n",
              "      <td>0.301854</td>\n",
              "      <td>-0.435315</td>\n",
              "      <td>3.101961</td>\n",
              "      <td>0.986065</td>\n",
              "      <td>0.995841</td>\n",
              "      <td>0.989216</td>\n",
              "      <td>0.851650</td>\n",
              "      <td>1.313143</td>\n",
              "      <td>1.096304</td>\n",
              "      <td>0.963150</td>\n",
              "    </tr>\n",
              "    <tr>\n",
              "      <th>99999</th>\n",
              "      <td>1.0</td>\n",
              "      <td>1.395078</td>\n",
              "      <td>0.143119</td>\n",
              "      <td>-1.087772</td>\n",
              "      <td>0.581583</td>\n",
              "      <td>-0.127351</td>\n",
              "      <td>1.125120</td>\n",
              "      <td>-2.388460</td>\n",
              "      <td>1.306269</td>\n",
              "      <td>0.000000</td>\n",
              "      <td>1.018811</td>\n",
              "      <td>0.381810</td>\n",
              "      <td>-0.171646</td>\n",
              "      <td>2.214872</td>\n",
              "      <td>1.021589</td>\n",
              "      <td>-0.037147</td>\n",
              "      <td>-1.449168</td>\n",
              "      <td>0.000000</td>\n",
              "      <td>0.952209</td>\n",
              "      <td>1.423667</td>\n",
              "      <td>-0.208356</td>\n",
              "      <td>0.000000</td>\n",
              "      <td>0.804638</td>\n",
              "      <td>0.679799</td>\n",
              "      <td>0.983816</td>\n",
              "      <td>0.728147</td>\n",
              "      <td>1.098247</td>\n",
              "      <td>1.488028</td>\n",
              "      <td>1.466187</td>\n",
              "    </tr>\n",
              "  </tbody>\n",
              "</table>\n",
              "<p>100000 rows × 29 columns</p>\n",
              "</div>"
            ],
            "text/plain": [
              "       signal  lepton_pT  lepton_eta  ...      m_bb     m_wbb    m_wwbb\n",
              "0         1.0   0.869293   -0.635082  ...  0.721657  0.988751  0.876678\n",
              "1         1.0   0.907542    0.329147  ...  0.779732  0.992356  0.798343\n",
              "2         1.0   0.798835    1.470639  ...  0.803252  0.865924  0.780118\n",
              "3         0.0   1.344385   -0.876626  ...  0.869200  1.026736  0.957904\n",
              "4         1.0   1.105009    0.321356  ...  1.133295  0.872245  0.808487\n",
              "...       ...        ...         ...  ...       ...       ...       ...\n",
              "99995     0.0   1.541120   -0.948700  ...  0.971256  0.962689  0.914845\n",
              "99996     1.0   0.957321   -0.759750  ...  0.840251  0.702825  0.642653\n",
              "99997     1.0   0.878993   -1.687942  ...  0.911731  0.911673  0.805071\n",
              "99998     0.0   1.090185    0.409987  ...  1.313143  1.096304  0.963150\n",
              "99999     1.0   1.395078    0.143119  ...  1.098247  1.488028  1.466187\n",
              "\n",
              "[100000 rows x 29 columns]"
            ]
          },
          "metadata": {},
          "execution_count": 8
        }
      ]
    },
    {
      "cell_type": "markdown",
      "metadata": {
        "id": "LAWTURW9ke5i"
      },
      "source": [
        "Don't worry about class imbalance in training dataset for now. Our training and testing datasets have a good balance. Trust me, I have seen worse signal-background distribution than this."
      ]
    },
    {
      "cell_type": "code",
      "metadata": {
        "colab": {
          "base_uri": "https://localhost:8080/"
        },
        "id": "mMQj41i8kLoF",
        "outputId": "097eb674-6dd2-4af0-db0d-6d03307634af"
      },
      "source": [
        "higgs_data_train[\"signal\"].value_counts()"
      ],
      "execution_count": 28,
      "outputs": [
        {
          "output_type": "execute_result",
          "data": {
            "text/plain": [
              "1.0    52834\n",
              "0.0    47166\n",
              "Name: signal, dtype: int64"
            ]
          },
          "metadata": {},
          "execution_count": 28
        }
      ]
    },
    {
      "cell_type": "code",
      "metadata": {
        "colab": {
          "base_uri": "https://localhost:8080/"
        },
        "id": "JMJk_Ee4kaOe",
        "outputId": "5809d064-3c53-4925-8be2-bbec74e35e5e"
      },
      "source": [
        "higgs_data_test[\"signal\"].value_counts()"
      ],
      "execution_count": 29,
      "outputs": [
        {
          "output_type": "execute_result",
          "data": {
            "text/plain": [
              "1.0    52842\n",
              "0.0    47158\n",
              "Name: signal, dtype: int64"
            ]
          },
          "metadata": {},
          "execution_count": 29
        }
      ]
    },
    {
      "cell_type": "markdown",
      "metadata": {
        "id": "YtnwltRUkxK8"
      },
      "source": [
        "Separating the data into features and labels one more time. The training and testing data is now in the form of a lovely numpy array, which you can plug in easily, just like in the tutorial."
      ]
    },
    {
      "cell_type": "code",
      "metadata": {
        "id": "eZmR5L_N-6FS"
      },
      "source": [
        "x_train, y_train = higgs_data_train.to_numpy()[:, 1:], higgs_data_train.to_numpy()[:, 0]\n",
        "x_test, y_test = higgs_data_test.to_numpy()[:, 1:], higgs_data_test.to_numpy()[:, 0]"
      ],
      "execution_count": 31,
      "outputs": []
    },
    {
      "cell_type": "code",
      "metadata": {
        "colab": {
          "base_uri": "https://localhost:8080/"
        },
        "id": "sGD1szwf_B06",
        "outputId": "c59d864a-3ad7-4997-9081-9f3c27a60c74"
      },
      "source": [
        "x_train.shape, x_test.shape"
      ],
      "execution_count": 10,
      "outputs": [
        {
          "output_type": "execute_result",
          "data": {
            "text/plain": [
              "((100000, 28), (100000, 28))"
            ]
          },
          "metadata": {},
          "execution_count": 10
        }
      ]
    },
    {
      "cell_type": "markdown",
      "metadata": {
        "id": "XVEs2bA-k3EO"
      },
      "source": [
        "**Time to get to work.** \n",
        "\n",
        "Your job is to design a neural network that takes in the input above and train them. Consult the tutorial if you get stuck. https://www.tensorflow.org/tutorials/keras/classification\n",
        "\n",
        "If you are still stuck or you have any technical problems, you know how to reach me."
      ]
    },
    {
      "cell_type": "code",
      "metadata": {
        "id": "Hn1TVg8eDg6f",
        "outputId": "f58c5864-135d-418e-ed35-e9a08a00ffcb",
        "colab": {
          "base_uri": "https://localhost:8080/"
        }
      },
      "source": [
        "# Y88b   d88P  .d88888b.  888     888 8888888b.        .d8888b.   .d88888b.  8888888b.  8888888888      888    888 8888888888 8888888b.  8888888888 \n",
        "#  Y88b d88P  d88P\" \"Y88b 888     888 888   Y88b      d88P  Y88b d88P\" \"Y88b 888  \"Y88b 888             888    888 888        888   Y88b 888        \n",
        "#   Y88o88P   888     888 888     888 888    888      888    888 888     888 888    888 888             888    888 888        888    888 888        \n",
        "#    Y888P    888     888 888     888 888   d88P      888        888     888 888    888 8888888         8888888888 8888888    888   d88P 8888888    \n",
        "#     888     888     888 888     888 8888888P\"       888        888     888 888    888 888             888    888 888        8888888P\"  888        \n",
        "#     888     888     888 888     888 888 T88b        888    888 888     888 888    888 888             888    888 888        888 T88b   888        \n",
        "#     888     Y88b. .d88P Y88b. .d88P 888  T88b       Y88b  d88P Y88b. .d88P 888  .d88P 888             888    888 888        888  T88b  888        \n",
        "#     888      \"Y88888P\"   \"Y88888P\"  888   T88b       \"Y8888P\"   \"Y88888P\"  8888888P\"  8888888888      888    888 8888888888 888   T88b 8888888888 \n",
        "\n",
        "model=tf.keras.Sequential([tf.keras.layers.Dense(128, activation='sigmoid'),tf.keras.layers.Dense(1,activation='sigmoid')])\n",
        "model.compile(optimizer='adam',loss=tf.keras.losses.BinaryCrossentropy(),metrics=[\"accuracy\",\"AUC\"])\n",
        "history = model.fit(x_train, y_train, epochs=20, validation_data=(x_test, y_test))\n",
        "\n"
      ],
      "execution_count": 69,
      "outputs": [
        {
          "output_type": "stream",
          "name": "stdout",
          "text": [
            "Epoch 1/20\n",
            "3125/3125 [==============================] - 8s 2ms/step - loss: 0.6590 - accuracy: 0.6014 - auc: 0.6375 - val_loss: 0.6489 - val_accuracy: 0.6130 - val_auc: 0.6637\n",
            "Epoch 2/20\n",
            "3125/3125 [==============================] - 7s 2ms/step - loss: 0.6461 - accuracy: 0.6216 - auc: 0.6634 - val_loss: 0.6447 - val_accuracy: 0.6257 - val_auc: 0.6751\n",
            "Epoch 3/20\n",
            "3125/3125 [==============================] - 7s 2ms/step - loss: 0.6393 - accuracy: 0.6324 - auc: 0.6773 - val_loss: 0.6360 - val_accuracy: 0.6360 - val_auc: 0.6894\n",
            "Epoch 4/20\n",
            "3125/3125 [==============================] - 7s 2ms/step - loss: 0.6331 - accuracy: 0.6406 - auc: 0.6891 - val_loss: 0.6339 - val_accuracy: 0.6394 - val_auc: 0.6986\n",
            "Epoch 5/20\n",
            "3125/3125 [==============================] - 7s 2ms/step - loss: 0.6284 - accuracy: 0.6477 - auc: 0.6978 - val_loss: 0.6321 - val_accuracy: 0.6419 - val_auc: 0.7008\n",
            "Epoch 6/20\n",
            "3125/3125 [==============================] - 10s 3ms/step - loss: 0.6238 - accuracy: 0.6538 - auc: 0.7058 - val_loss: 0.6237 - val_accuracy: 0.6548 - val_auc: 0.7091\n",
            "Epoch 7/20\n",
            "3125/3125 [==============================] - 7s 2ms/step - loss: 0.6197 - accuracy: 0.6589 - auc: 0.7126 - val_loss: 0.6332 - val_accuracy: 0.6350 - val_auc: 0.7175\n",
            "Epoch 8/20\n",
            "3125/3125 [==============================] - 9s 3ms/step - loss: 0.6162 - accuracy: 0.6628 - auc: 0.7182 - val_loss: 0.6140 - val_accuracy: 0.6626 - val_auc: 0.7235\n",
            "Epoch 9/20\n",
            "3125/3125 [==============================] - 9s 3ms/step - loss: 0.6123 - accuracy: 0.6672 - auc: 0.7242 - val_loss: 0.6132 - val_accuracy: 0.6659 - val_auc: 0.7224\n",
            "Epoch 10/20\n",
            "3125/3125 [==============================] - 7s 2ms/step - loss: 0.6094 - accuracy: 0.6698 - auc: 0.7280 - val_loss: 0.6089 - val_accuracy: 0.6704 - val_auc: 0.7287\n",
            "Epoch 11/20\n",
            "3125/3125 [==============================] - 7s 2ms/step - loss: 0.6065 - accuracy: 0.6712 - auc: 0.7323 - val_loss: 0.6077 - val_accuracy: 0.6662 - val_auc: 0.7343\n",
            "Epoch 12/20\n",
            "3125/3125 [==============================] - 9s 3ms/step - loss: 0.6037 - accuracy: 0.6746 - auc: 0.7356 - val_loss: 0.6125 - val_accuracy: 0.6579 - val_auc: 0.7375\n",
            "Epoch 13/20\n",
            "3125/3125 [==============================] - 7s 2ms/step - loss: 0.6013 - accuracy: 0.6770 - auc: 0.7386 - val_loss: 0.6027 - val_accuracy: 0.6728 - val_auc: 0.7381\n",
            "Epoch 14/20\n",
            "3125/3125 [==============================] - 9s 3ms/step - loss: 0.5997 - accuracy: 0.6794 - auc: 0.7405 - val_loss: 0.6010 - val_accuracy: 0.6793 - val_auc: 0.7408\n",
            "Epoch 15/20\n",
            "3125/3125 [==============================] - 10s 3ms/step - loss: 0.5973 - accuracy: 0.6798 - auc: 0.7432 - val_loss: 0.6002 - val_accuracy: 0.6724 - val_auc: 0.7435\n",
            "Epoch 16/20\n",
            "3125/3125 [==============================] - 9s 3ms/step - loss: 0.5961 - accuracy: 0.6809 - auc: 0.7445 - val_loss: 0.5984 - val_accuracy: 0.6815 - val_auc: 0.7435\n",
            "Epoch 17/20\n",
            "3125/3125 [==============================] - 9s 3ms/step - loss: 0.5942 - accuracy: 0.6828 - auc: 0.7467 - val_loss: 0.5967 - val_accuracy: 0.6779 - val_auc: 0.7444\n",
            "Epoch 18/20\n",
            "3125/3125 [==============================] - 10s 3ms/step - loss: 0.5925 - accuracy: 0.6852 - auc: 0.7487 - val_loss: 0.5949 - val_accuracy: 0.6839 - val_auc: 0.7466\n",
            "Epoch 19/20\n",
            "3125/3125 [==============================] - 7s 2ms/step - loss: 0.5906 - accuracy: 0.6853 - auc: 0.7507 - val_loss: 0.5945 - val_accuracy: 0.6833 - val_auc: 0.7470\n",
            "Epoch 20/20\n",
            "3125/3125 [==============================] - 7s 2ms/step - loss: 0.5898 - accuracy: 0.6873 - auc: 0.7520 - val_loss: 0.5935 - val_accuracy: 0.6867 - val_auc: 0.7504\n"
          ]
        }
      ]
    },
    {
      "cell_type": "code",
      "metadata": {
        "id": "RXha3EGWrHyT",
        "colab": {
          "base_uri": "https://localhost:8080/"
        },
        "outputId": "35829114-cf9b-4931-b417-9634b61d8677"
      },
      "source": [
        "model.summary()"
      ],
      "execution_count": 70,
      "outputs": [
        {
          "output_type": "stream",
          "name": "stdout",
          "text": [
            "Model: \"sequential_24\"\n",
            "_________________________________________________________________\n",
            "Layer (type)                 Output Shape              Param #   \n",
            "=================================================================\n",
            "dense_48 (Dense)             (32, 128)                 3712      \n",
            "_________________________________________________________________\n",
            "dense_49 (Dense)             (32, 1)                   129       \n",
            "=================================================================\n",
            "Total params: 3,841\n",
            "Trainable params: 3,841\n",
            "Non-trainable params: 0\n",
            "_________________________________________________________________\n"
          ]
        }
      ]
    },
    {
      "cell_type": "code",
      "metadata": {
        "id": "D3bN20rTFUfO",
        "colab": {
          "base_uri": "https://localhost:8080/",
          "height": 690
        },
        "outputId": "439a6c30-8693-418e-98db-72aa72ac0ac5"
      },
      "source": [
        "# LOOK HERE.\n",
        "# The fit() method allows you to calculate validation metrics with validation_data option.\n",
        "# Its output can also be saved as a value too. Make sure you have your fit look like this.\n",
        "history = model.fit(x_train, y_train, epochs=20, validation_data=(x_test, y_test))"
      ],
      "execution_count": 56,
      "outputs": [
        {
          "output_type": "stream",
          "name": "stdout",
          "text": [
            "Epoch 1/20\n",
            "3125/3125 [==============================] - 7s 2ms/step - loss: 8.1497 - accuracy: 0.4717 - val_loss: 8.1509 - val_accuracy: 0.4716\n",
            "Epoch 2/20\n",
            "3125/3125 [==============================] - 6s 2ms/step - loss: 8.1496 - accuracy: 0.4717 - val_loss: 8.1509 - val_accuracy: 0.4716\n",
            "Epoch 3/20\n",
            "3125/3125 [==============================] - 6s 2ms/step - loss: 8.1496 - accuracy: 0.4717 - val_loss: 8.1509 - val_accuracy: 0.4716\n",
            "Epoch 4/20\n",
            "3125/3125 [==============================] - 6s 2ms/step - loss: 8.1496 - accuracy: 0.4717 - val_loss: 8.1509 - val_accuracy: 0.4716\n",
            "Epoch 5/20\n",
            " 125/3125 [>.............................] - ETA: 3s - loss: 8.2061 - accuracy: 0.4680"
          ]
        },
        {
          "output_type": "stream",
          "name": "stderr",
          "text": [
            "Exception ignored in: <function IteratorResourceDeleter.__del__ at 0x7f619a05e560>\n",
            "Traceback (most recent call last):\n",
            "  File \"/usr/local/lib/python3.7/dist-packages/tensorflow/python/data/ops/iterator_ops.py\", line 546, in __del__\n",
            "    handle=self._handle, deleter=self._deleter)\n",
            "  File \"/usr/local/lib/python3.7/dist-packages/tensorflow/python/ops/gen_dataset_ops.py\", line 1264, in delete_iterator\n",
            "    _ctx, \"DeleteIterator\", name, handle, deleter)\n",
            "KeyboardInterrupt: \n"
          ]
        },
        {
          "output_type": "stream",
          "name": "stdout",
          "text": [
            "3125/3125 [==============================] - 6s 2ms/step - loss: 8.1496 - accuracy: 0.4717 - val_loss: 8.1509 - val_accuracy: 0.4716\n",
            "Epoch 6/20\n",
            "3125/3125 [==============================] - 6s 2ms/step - loss: 8.1496 - accuracy: 0.4717 - val_loss: 8.1509 - val_accuracy: 0.4716\n",
            "Epoch 7/20\n",
            "1702/3125 [===============>..............] - ETA: 1s - loss: 8.1396 - accuracy: 0.4723"
          ]
        },
        {
          "output_type": "error",
          "ename": "KeyboardInterrupt",
          "evalue": "ignored",
          "traceback": [
            "\u001b[0;31m---------------------------------------------------------------------------\u001b[0m",
            "\u001b[0;31mKeyboardInterrupt\u001b[0m                         Traceback (most recent call last)",
            "\u001b[0;32m<ipython-input-56-421a89ddd9f0>\u001b[0m in \u001b[0;36m<module>\u001b[0;34m()\u001b[0m\n\u001b[1;32m      2\u001b[0m \u001b[0;31m# The fit() method allows you to calculate validation metrics with validation_data option.\u001b[0m\u001b[0;34m\u001b[0m\u001b[0;34m\u001b[0m\u001b[0;34m\u001b[0m\u001b[0m\n\u001b[1;32m      3\u001b[0m \u001b[0;31m# Its output can also be saved as a value too. Make sure you have your fit look like this.\u001b[0m\u001b[0;34m\u001b[0m\u001b[0;34m\u001b[0m\u001b[0;34m\u001b[0m\u001b[0m\n\u001b[0;32m----> 4\u001b[0;31m \u001b[0mhistory\u001b[0m \u001b[0;34m=\u001b[0m \u001b[0mmodel\u001b[0m\u001b[0;34m.\u001b[0m\u001b[0mfit\u001b[0m\u001b[0;34m(\u001b[0m\u001b[0mx_train\u001b[0m\u001b[0;34m,\u001b[0m \u001b[0my_train\u001b[0m\u001b[0;34m,\u001b[0m \u001b[0mepochs\u001b[0m\u001b[0;34m=\u001b[0m\u001b[0;36m20\u001b[0m\u001b[0;34m,\u001b[0m \u001b[0mvalidation_data\u001b[0m\u001b[0;34m=\u001b[0m\u001b[0;34m(\u001b[0m\u001b[0mx_test\u001b[0m\u001b[0;34m,\u001b[0m \u001b[0my_test\u001b[0m\u001b[0;34m)\u001b[0m\u001b[0;34m)\u001b[0m\u001b[0;34m\u001b[0m\u001b[0;34m\u001b[0m\u001b[0m\n\u001b[0m",
            "\u001b[0;32m/usr/local/lib/python3.7/dist-packages/keras/engine/training.py\u001b[0m in \u001b[0;36mfit\u001b[0;34m(self, x, y, batch_size, epochs, verbose, callbacks, validation_split, validation_data, shuffle, class_weight, sample_weight, initial_epoch, steps_per_epoch, validation_steps, validation_batch_size, validation_freq, max_queue_size, workers, use_multiprocessing)\u001b[0m\n\u001b[1;32m   1182\u001b[0m                 _r=1):\n\u001b[1;32m   1183\u001b[0m               \u001b[0mcallbacks\u001b[0m\u001b[0;34m.\u001b[0m\u001b[0mon_train_batch_begin\u001b[0m\u001b[0;34m(\u001b[0m\u001b[0mstep\u001b[0m\u001b[0;34m)\u001b[0m\u001b[0;34m\u001b[0m\u001b[0;34m\u001b[0m\u001b[0m\n\u001b[0;32m-> 1184\u001b[0;31m               \u001b[0mtmp_logs\u001b[0m \u001b[0;34m=\u001b[0m \u001b[0mself\u001b[0m\u001b[0;34m.\u001b[0m\u001b[0mtrain_function\u001b[0m\u001b[0;34m(\u001b[0m\u001b[0miterator\u001b[0m\u001b[0;34m)\u001b[0m\u001b[0;34m\u001b[0m\u001b[0;34m\u001b[0m\u001b[0m\n\u001b[0m\u001b[1;32m   1185\u001b[0m               \u001b[0;32mif\u001b[0m \u001b[0mdata_handler\u001b[0m\u001b[0;34m.\u001b[0m\u001b[0mshould_sync\u001b[0m\u001b[0;34m:\u001b[0m\u001b[0;34m\u001b[0m\u001b[0;34m\u001b[0m\u001b[0m\n\u001b[1;32m   1186\u001b[0m                 \u001b[0mcontext\u001b[0m\u001b[0;34m.\u001b[0m\u001b[0masync_wait\u001b[0m\u001b[0;34m(\u001b[0m\u001b[0;34m)\u001b[0m\u001b[0;34m\u001b[0m\u001b[0;34m\u001b[0m\u001b[0m\n",
            "\u001b[0;32m/usr/local/lib/python3.7/dist-packages/tensorflow/python/eager/def_function.py\u001b[0m in \u001b[0;36m__call__\u001b[0;34m(self, *args, **kwds)\u001b[0m\n\u001b[1;32m    883\u001b[0m \u001b[0;34m\u001b[0m\u001b[0m\n\u001b[1;32m    884\u001b[0m       \u001b[0;32mwith\u001b[0m \u001b[0mOptionalXlaContext\u001b[0m\u001b[0;34m(\u001b[0m\u001b[0mself\u001b[0m\u001b[0;34m.\u001b[0m\u001b[0m_jit_compile\u001b[0m\u001b[0;34m)\u001b[0m\u001b[0;34m:\u001b[0m\u001b[0;34m\u001b[0m\u001b[0;34m\u001b[0m\u001b[0m\n\u001b[0;32m--> 885\u001b[0;31m         \u001b[0mresult\u001b[0m \u001b[0;34m=\u001b[0m \u001b[0mself\u001b[0m\u001b[0;34m.\u001b[0m\u001b[0m_call\u001b[0m\u001b[0;34m(\u001b[0m\u001b[0;34m*\u001b[0m\u001b[0margs\u001b[0m\u001b[0;34m,\u001b[0m \u001b[0;34m**\u001b[0m\u001b[0mkwds\u001b[0m\u001b[0;34m)\u001b[0m\u001b[0;34m\u001b[0m\u001b[0;34m\u001b[0m\u001b[0m\n\u001b[0m\u001b[1;32m    886\u001b[0m \u001b[0;34m\u001b[0m\u001b[0m\n\u001b[1;32m    887\u001b[0m       \u001b[0mnew_tracing_count\u001b[0m \u001b[0;34m=\u001b[0m \u001b[0mself\u001b[0m\u001b[0;34m.\u001b[0m\u001b[0mexperimental_get_tracing_count\u001b[0m\u001b[0;34m(\u001b[0m\u001b[0;34m)\u001b[0m\u001b[0;34m\u001b[0m\u001b[0;34m\u001b[0m\u001b[0m\n",
            "\u001b[0;32m/usr/local/lib/python3.7/dist-packages/tensorflow/python/eager/def_function.py\u001b[0m in \u001b[0;36m_call\u001b[0;34m(self, *args, **kwds)\u001b[0m\n\u001b[1;32m    915\u001b[0m       \u001b[0;31m# In this case we have created variables on the first call, so we run the\u001b[0m\u001b[0;34m\u001b[0m\u001b[0;34m\u001b[0m\u001b[0;34m\u001b[0m\u001b[0m\n\u001b[1;32m    916\u001b[0m       \u001b[0;31m# defunned version which is guaranteed to never create variables.\u001b[0m\u001b[0;34m\u001b[0m\u001b[0;34m\u001b[0m\u001b[0;34m\u001b[0m\u001b[0m\n\u001b[0;32m--> 917\u001b[0;31m       \u001b[0;32mreturn\u001b[0m \u001b[0mself\u001b[0m\u001b[0;34m.\u001b[0m\u001b[0m_stateless_fn\u001b[0m\u001b[0;34m(\u001b[0m\u001b[0;34m*\u001b[0m\u001b[0margs\u001b[0m\u001b[0;34m,\u001b[0m \u001b[0;34m**\u001b[0m\u001b[0mkwds\u001b[0m\u001b[0;34m)\u001b[0m  \u001b[0;31m# pylint: disable=not-callable\u001b[0m\u001b[0;34m\u001b[0m\u001b[0;34m\u001b[0m\u001b[0m\n\u001b[0m\u001b[1;32m    918\u001b[0m     \u001b[0;32melif\u001b[0m \u001b[0mself\u001b[0m\u001b[0;34m.\u001b[0m\u001b[0m_stateful_fn\u001b[0m \u001b[0;32mis\u001b[0m \u001b[0;32mnot\u001b[0m \u001b[0;32mNone\u001b[0m\u001b[0;34m:\u001b[0m\u001b[0;34m\u001b[0m\u001b[0;34m\u001b[0m\u001b[0m\n\u001b[1;32m    919\u001b[0m       \u001b[0;31m# Release the lock early so that multiple threads can perform the call\u001b[0m\u001b[0;34m\u001b[0m\u001b[0;34m\u001b[0m\u001b[0;34m\u001b[0m\u001b[0m\n",
            "\u001b[0;32m/usr/local/lib/python3.7/dist-packages/tensorflow/python/eager/function.py\u001b[0m in \u001b[0;36m__call__\u001b[0;34m(self, *args, **kwargs)\u001b[0m\n\u001b[1;32m   3038\u001b[0m        filtered_flat_args) = self._maybe_define_function(args, kwargs)\n\u001b[1;32m   3039\u001b[0m     return graph_function._call_flat(\n\u001b[0;32m-> 3040\u001b[0;31m         filtered_flat_args, captured_inputs=graph_function.captured_inputs)  # pylint: disable=protected-access\n\u001b[0m\u001b[1;32m   3041\u001b[0m \u001b[0;34m\u001b[0m\u001b[0m\n\u001b[1;32m   3042\u001b[0m   \u001b[0;34m@\u001b[0m\u001b[0mproperty\u001b[0m\u001b[0;34m\u001b[0m\u001b[0;34m\u001b[0m\u001b[0m\n",
            "\u001b[0;32m/usr/local/lib/python3.7/dist-packages/tensorflow/python/eager/function.py\u001b[0m in \u001b[0;36m_call_flat\u001b[0;34m(self, args, captured_inputs, cancellation_manager)\u001b[0m\n\u001b[1;32m   1962\u001b[0m       \u001b[0;31m# No tape is watching; skip to running the function.\u001b[0m\u001b[0;34m\u001b[0m\u001b[0;34m\u001b[0m\u001b[0;34m\u001b[0m\u001b[0m\n\u001b[1;32m   1963\u001b[0m       return self._build_call_outputs(self._inference_function.call(\n\u001b[0;32m-> 1964\u001b[0;31m           ctx, args, cancellation_manager=cancellation_manager))\n\u001b[0m\u001b[1;32m   1965\u001b[0m     forward_backward = self._select_forward_and_backward_functions(\n\u001b[1;32m   1966\u001b[0m         \u001b[0margs\u001b[0m\u001b[0;34m,\u001b[0m\u001b[0;34m\u001b[0m\u001b[0;34m\u001b[0m\u001b[0m\n",
            "\u001b[0;32m/usr/local/lib/python3.7/dist-packages/tensorflow/python/eager/function.py\u001b[0m in \u001b[0;36mcall\u001b[0;34m(self, ctx, args, cancellation_manager)\u001b[0m\n\u001b[1;32m    594\u001b[0m               \u001b[0minputs\u001b[0m\u001b[0;34m=\u001b[0m\u001b[0margs\u001b[0m\u001b[0;34m,\u001b[0m\u001b[0;34m\u001b[0m\u001b[0;34m\u001b[0m\u001b[0m\n\u001b[1;32m    595\u001b[0m               \u001b[0mattrs\u001b[0m\u001b[0;34m=\u001b[0m\u001b[0mattrs\u001b[0m\u001b[0;34m,\u001b[0m\u001b[0;34m\u001b[0m\u001b[0;34m\u001b[0m\u001b[0m\n\u001b[0;32m--> 596\u001b[0;31m               ctx=ctx)\n\u001b[0m\u001b[1;32m    597\u001b[0m         \u001b[0;32melse\u001b[0m\u001b[0;34m:\u001b[0m\u001b[0;34m\u001b[0m\u001b[0;34m\u001b[0m\u001b[0m\n\u001b[1;32m    598\u001b[0m           outputs = execute.execute_with_cancellation(\n",
            "\u001b[0;32m/usr/local/lib/python3.7/dist-packages/tensorflow/python/eager/execute.py\u001b[0m in \u001b[0;36mquick_execute\u001b[0;34m(op_name, num_outputs, inputs, attrs, ctx, name)\u001b[0m\n\u001b[1;32m     58\u001b[0m     \u001b[0mctx\u001b[0m\u001b[0;34m.\u001b[0m\u001b[0mensure_initialized\u001b[0m\u001b[0;34m(\u001b[0m\u001b[0;34m)\u001b[0m\u001b[0;34m\u001b[0m\u001b[0;34m\u001b[0m\u001b[0m\n\u001b[1;32m     59\u001b[0m     tensors = pywrap_tfe.TFE_Py_Execute(ctx._handle, device_name, op_name,\n\u001b[0;32m---> 60\u001b[0;31m                                         inputs, attrs, num_outputs)\n\u001b[0m\u001b[1;32m     61\u001b[0m   \u001b[0;32mexcept\u001b[0m \u001b[0mcore\u001b[0m\u001b[0;34m.\u001b[0m\u001b[0m_NotOkStatusException\u001b[0m \u001b[0;32mas\u001b[0m \u001b[0me\u001b[0m\u001b[0;34m:\u001b[0m\u001b[0;34m\u001b[0m\u001b[0;34m\u001b[0m\u001b[0m\n\u001b[1;32m     62\u001b[0m     \u001b[0;32mif\u001b[0m \u001b[0mname\u001b[0m \u001b[0;32mis\u001b[0m \u001b[0;32mnot\u001b[0m \u001b[0;32mNone\u001b[0m\u001b[0;34m:\u001b[0m\u001b[0;34m\u001b[0m\u001b[0;34m\u001b[0m\u001b[0m\n",
            "\u001b[0;31mKeyboardInterrupt\u001b[0m: "
          ]
        }
      ]
    },
    {
      "cell_type": "markdown",
      "metadata": {
        "id": "-saNgdM4G-MF"
      },
      "source": [
        "As I am writing this notebook I just got vaccinated. My brain and my fingers are now a bit slow and inaccurate. Still I got the accuracy on the training set at around 71%, and test set around 70%. \n",
        "\n",
        "What's more interesting, however, is the AUC, or Area Under Curve. The \"Curve\" we are talking about is the Receiver Operating Characteristic Curve. I don't want to spend some time to explain this, since it is 1 AM now, but essentially ROC curve is the curve that shows how much true positive (_signal entries determined by the discriminator as signal_) is going to be if we adjust the discriminator cut to have certain levels of false positive (_background entries determined by the discriminator as signal_). If AUC approaches to 1, it means our discriminator (or in this case the neural network) is perfect and can allow very small false positives. If AUC is 0.5, our discriminator is no better than random guessing.\n",
        "\n",
        "The point is AUC can be used as a metric, or a number to check how well the network performs. We can use accuracy here, but if our network can provide predictions as a number between 0 and 1, the accuracy will change if we change the cut. AUC, on the other hand, can be invariant of the discriminator cut."
      ]
    },
    {
      "cell_type": "markdown",
      "metadata": {
        "id": "Ukn3ES7z6bb1"
      },
      "source": [
        "The code below will draw the evolution of loss and AUC during the training of several epochs, depending on how long you have specified your training. If the training is good, the metrics between training and validation datasets should be close. If the validation metrics are worse than training metrics, this means we have overtraining issues, and that is BAD."
      ]
    },
    {
      "cell_type": "code",
      "metadata": {
        "id": "VMb66QgtiGuK",
        "colab": {
          "base_uri": "https://localhost:8080/",
          "height": 530
        },
        "outputId": "790dbed8-a702-44eb-b38e-88de2f552315"
      },
      "source": [
        "# We are using the history object, which is the output of fit() method.\n",
        "# If the code below screams that you do not have \"history\" or \"auc\" in history,\n",
        "# you might want to check my comment.\n",
        "plt.figure(figsize=(20, 8), facecolor=\"white\")\n",
        "plt.subplot(1, 2, 1)\n",
        "plt.plot(history.history[\"loss\"], label=\"training loss\")\n",
        "plt.plot(history.history[\"val_loss\"], label=\"validation loss\")\n",
        "plt.legend()\n",
        "plt.title(\"Training and testing loss\")\n",
        "plt.xlabel(\"Epochs\")\n",
        "plt.ylabel(\"Loss\")\n",
        "plt.subplot(1, 2, 2)\n",
        "plt.plot(history.history[\"auc\"], label=\"training AUC\")\n",
        "plt.plot(history.history[\"val_auc\"], label=\"validation AUC\")\n",
        "plt.legend()\n",
        "plt.title(\"Training and testing AUC\")\n",
        "plt.xlabel(\"Epochs\")\n",
        "plt.ylabel(\"AUC\")"
      ],
      "execution_count": 71,
      "outputs": [
        {
          "output_type": "execute_result",
          "data": {
            "text/plain": [
              "Text(0, 0.5, 'AUC')"
            ]
          },
          "metadata": {},
          "execution_count": 71
        },
        {
          "output_type": "display_data",
          "data": {
            "image/png": "[encoded data removed]",
            "text/plain": [
              "<Figure size 1440x576 with 2 Axes>"
            ]
          },
          "metadata": {}
        }
      ]
    },
    {
      "cell_type": "markdown",
      "metadata": {
        "id": "OUhnnuyi5rmL"
      },
      "source": [
        "So far I have only managed to get AUC of around 0.76-0.78, but I only have a few hours to work on this. Let's see if your model gets better AUC. Good luck!"
      ]
    }
  ]
}